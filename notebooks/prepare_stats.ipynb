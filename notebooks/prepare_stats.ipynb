{
 "cells": [
  {
   "cell_type": "code",
   "execution_count": 1,
   "metadata": {},
   "outputs": [],
   "source": [
    "import os"
   ]
  },
  {
   "cell_type": "code",
   "execution_count": 2,
   "metadata": {},
   "outputs": [],
   "source": [
    "os.chdir(\"..\")"
   ]
  },
  {
   "cell_type": "code",
   "execution_count": 3,
   "metadata": {},
   "outputs": [],
   "source": [
    "from tt_stats_light.data import compute_stats\n",
    "import pickle\n",
    "import pandas as pd\n",
    "from pprint import pprint"
   ]
  },
  {
   "cell_type": "code",
   "execution_count": 4,
   "metadata": {},
   "outputs": [],
   "source": [
    "raw_data = pickle.load(open(\"data/raw/user_data.pkl\", \"rb\"))\n",
    "user, videos = raw_data\n",
    "# user = pd.Series(user)\n",
    "videos = pd.DataFrame(videos)\n",
    "stats = compute_stats.compute_stats(videos, user)"
   ]
  },
  {
   "cell_type": "code",
   "execution_count": 6,
   "metadata": {},
   "outputs": [
    {
     "data": {
      "text/plain": [
       "avg_plays_per_video                         13877593.333333\n",
       "avg_comments_per_video                          7879.866667\n",
       "avg_shares_per_video                            9395.766667\n",
       "total_plays                                       416327800\n",
       "total_comments                                       236396\n",
       "date_of_last_video                2023-04-24 17:58:25+00:00\n",
       "avg_date_diff                     3 days 08:18:04.724137931\n",
       "most_frequent_music_title            {'original sound': 16}\n",
       "top_music_title_by_video_plays               original sound\n",
       "most_common_tag                          {'projectrock': 6}\n",
       "total_dur_vid_time                                      980\n",
       "avg_dur_vid_time                                  32.666667\n",
       "views_per_subs_avg                                 0.197969\n",
       "all_likes_per_subs                                 6.684736\n",
       "dtype: object"
      ]
     },
     "execution_count": 6,
     "metadata": {},
     "output_type": "execute_result"
    }
   ],
   "source": [
    "pd.Series(stats)"
   ]
  },
  {
   "cell_type": "code",
   "execution_count": null,
   "metadata": {},
   "outputs": [],
   "source": []
  }
 ],
 "metadata": {
  "kernelspec": {
   "display_name": "env",
   "language": "python",
   "name": "python3"
  },
  "language_info": {
   "codemirror_mode": {
    "name": "ipython",
    "version": 3
   },
   "file_extension": ".py",
   "mimetype": "text/x-python",
   "name": "python",
   "nbconvert_exporter": "python",
   "pygments_lexer": "ipython3",
   "version": "3.10.6"
  },
  "orig_nbformat": 4
 },
 "nbformat": 4,
 "nbformat_minor": 2
}
